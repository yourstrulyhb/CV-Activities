{
 "cells": [
  {
   "cell_type": "markdown",
   "id": "4cb1ef10",
   "metadata": {},
   "source": [
    "# CMSC 174 LAB\n",
    "## Lab 1\n",
    "### Hannah Bella C. Arceño"
   ]
  },
  {
   "cell_type": "code",
   "execution_count": 1,
   "id": "699c1145",
   "metadata": {},
   "outputs": [
    {
     "name": "stdout",
     "output_type": "stream",
     "text": [
      "Requirement already satisfied: opencv-python in c:\\users\\user\\anaconda3\\lib\\site-packages (4.7.0.72)\n",
      "Requirement already satisfied: numpy>=1.17.0 in c:\\users\\user\\anaconda3\\lib\\site-packages (from opencv-python) (1.21.5)\n"
     ]
    }
   ],
   "source": [
    "# Install open cv\n",
    "import sys\n",
    "!{sys.executable} -m pip install opencv-python"
   ]
  },
  {
   "cell_type": "code",
   "execution_count": 2,
   "id": "d83d475b",
   "metadata": {
    "scrolled": true
   },
   "outputs": [],
   "source": [
    "# Modules\n",
    "import numpy as np\n",
    "import cv2\n",
    "\n",
    "import random\n",
    "\n",
    "%matplotlib inline \n",
    "from matplotlib import pyplot as plt"
   ]
  },
  {
   "cell_type": "markdown",
   "id": "caba88c9",
   "metadata": {},
   "source": [
    "## 1. Using numpy arrays, create a 800x800 black and white image having a pattern of alternating white and black horizontal stripes. The width of the stripe is 100.\n"
   ]
  },
  {
   "cell_type": "code",
   "execution_count": 3,
   "id": "3375ae65",
   "metadata": {},
   "outputs": [
    {
     "data": {
      "image/png": "[encoded data removed]",
      "text/plain": [
       "<Figure size 432x288 with 1 Axes>"
      ]
     },
     "metadata": {
      "needs_background": "light"
     },
     "output_type": "display_data"
    }
   ],
   "source": [
    "sq_img_dim=800\n",
    "\n",
    "\"\"\" Initialize 800x800x3 matrix of black pixels.\n",
    "    800x800 => dimension of image\n",
    "    3: length of pixel array \"\"\"\n",
    "mat = np.full((sq_img_dim, sq_img_dim, 3), 0, dtype = np.uint8) # Pixel array = [0,0,0]; represents black pixel\n",
    "# Black so that it is relatively faster to initialize \n",
    "\n",
    "\n",
    "\"\"\" Changes row color of rows:\n",
    "    0-99, 200-299, 400-499, and 600-699\n",
    "    to white. \"\"\"\n",
    "white_start = 0\n",
    "while white_start < sq_img_dim:\n",
    "    mat[white_start : white_start+99] = [255, 255, 255] # Change row color to white\n",
    "    white_start += 200\n",
    "\n",
    "    \n",
    "\"\"\" Display 800x800 image \"\"\"\n",
    "# cv2.imshow(\"image\", mat)\n",
    "# cv2.waitKey(0)\n",
    "\n",
    "plt.imshow(mat, interpolation='nearest')\n",
    "plt.show()"
   ]
  },
  {
   "cell_type": "markdown",
   "id": "e699eac1",
   "metadata": {},
   "source": [
    "## 2. Same as 1 but this time create vertical stripes"
   ]
  },
  {
   "cell_type": "code",
   "execution_count": 4,
   "id": "a39f6a9e",
   "metadata": {},
   "outputs": [
    {
     "data": {
      "image/png": "[encoded data removed]",
      "text/plain": [
       "<Figure size 432x288 with 1 Axes>"
      ]
     },
     "metadata": {
      "needs_background": "light"
     },
     "output_type": "display_data"
    }
   ],
   "source": [
    "sq_img_dim=800\n",
    "\n",
    "\"\"\" Initialize 800x800x3 matrix of black pixels.\n",
    "    800x800 => dimension of image\n",
    "    3: length of pixel array \"\"\"\n",
    "mat = np.full((sq_img_dim, sq_img_dim, 3), 0, dtype = np.uint8) # Pixel array = [0,0,0]; represents black pixel\n",
    "# Black so that it is relatively faster to initialize \n",
    "\n",
    "\n",
    "\"\"\" Changes column color of columns:\n",
    "    0-99, 200-299, 400-499, and 600-699\n",
    "    to white. \"\"\"\n",
    "white_start = 0\n",
    "while white_start < sq_img_dim:\n",
    "    mat[0:800, white_start : white_start+99] = [255, 255, 255] # Change column color to white\n",
    "    # <select all rows> , <selected columns, 100 width>\n",
    "    white_start += 200\n",
    "\n",
    "    \n",
    "\"\"\" Display 800x800 image \"\"\"\n",
    "# cv2.imshow(\"image\", mat)\n",
    "# cv2.waitKey(0)\n",
    "\n",
    "plt.imshow(mat, interpolation='nearest')\n",
    "plt.show()"
   ]
  },
  {
   "cell_type": "markdown",
   "id": "fd28e32a",
   "metadata": {},
   "source": [
    "## 3. Challenge: Same as 1 but create a chessboard pattern"
   ]
  },
  {
   "cell_type": "code",
   "execution_count": 5,
   "id": "40b39462",
   "metadata": {},
   "outputs": [
    {
     "data": {
      "image/png": "[encoded data removed]",
      "text/plain": [
       "<Figure size 432x288 with 1 Axes>"
      ]
     },
     "metadata": {
      "needs_background": "light"
     },
     "output_type": "display_data"
    }
   ],
   "source": [
    "sq_img_dim=800\n",
    "\n",
    "\"\"\" Initialize 800x800x3 matrix of black pixels.\n",
    "    800x800 => dimension of image\n",
    "    3: length of pixel array \"\"\"\n",
    "mat = np.full((sq_img_dim, sq_img_dim, 3), 0, dtype = np.uint8) # Pixel array = [0,0,0]; represents black pixel\n",
    "# Black so that it is relatively faster to initialize \n",
    "\n",
    "\n",
    "\n",
    "\"\"\" Change color of alternating 100x100 blocks (of pixels) \n",
    "    Changes rows 0-99, columns 0-99 into white, rows 0-99 columns 200-299 into white, and so on.\"\"\"\n",
    "\n",
    "row_start=0 # Start from row 0-99 \n",
    "while row_start < sq_img_dim:\n",
    "    \n",
    "    if row_start%200 == 0:\n",
    "        col_start=0   \n",
    "    else:\n",
    "        col_start=100\n",
    "        \n",
    "    while col_start < sq_img_dim:\n",
    "        mat[row_start:row_start+99, col_start:col_start+99] = [255, 255, 255]\n",
    "        col_start+=200\n",
    "        \n",
    "    row_start+=100\n",
    "   \n",
    "\n",
    "\"\"\" Display 800x800 image \"\"\"\n",
    "# cv2.imshow(\"image\", mat)\n",
    "# cv2.waitKey(0)\n",
    "\n",
    "plt.imshow(mat, interpolation='nearest')\n",
    "plt.show()"
   ]
  },
  {
   "cell_type": "markdown",
   "id": "e063f832",
   "metadata": {},
   "source": [
    "## 4. Challenge+: Do 1 to 3 but stipes are in different colors, choose your own colors."
   ]
  },
  {
   "cell_type": "code",
   "execution_count": 6,
   "id": "4dff9e5f",
   "metadata": {},
   "outputs": [],
   "source": [
    "def rand_color_num():\n",
    "    c = random.randrange(256)\n",
    "    return c"
   ]
  },
  {
   "cell_type": "code",
   "execution_count": 7,
   "id": "841c8863",
   "metadata": {},
   "outputs": [
    {
     "data": {
      "image/png": "[encoded data removed]",
      "text/plain": [
       "<Figure size 432x288 with 1 Axes>"
      ]
     },
     "metadata": {
      "needs_background": "light"
     },
     "output_type": "display_data"
    }
   ],
   "source": [
    "\"\"\" Initialize 800x800x3 matrix of black pixels.\n",
    "    800x800 => dimension of image\n",
    "    3: length of pixel array \"\"\"\n",
    "mat = np.full((sq_img_dim, sq_img_dim, 3), 0, dtype = np.uint8) # Pixel array = [0,0,0]; represents black pixel\n",
    "# Black so that it is relatively faster to initialize \n",
    "\n",
    "\n",
    "\"\"\" Changes row color of rows:\n",
    "    0-99, 200-299, 400-499, and 600-699 \"\"\"\n",
    "\n",
    "white_start = 0\n",
    "while white_start < sq_img_dim:\n",
    "    mat[white_start : white_start+99] = [255, rand_color_num(), rand_color_num()] # Change row color to something related to red\n",
    "    white_start += 200\n",
    "\n",
    "    \n",
    "\"\"\" Display 800x800 image \"\"\"\n",
    "# cv2.imshow(\"image\", mat)\n",
    "# cv2.waitKey(0)\n",
    "\n",
    "plt.imshow(mat, interpolation='nearest')\n",
    "plt.show()"
   ]
  },
  {
   "cell_type": "code",
   "execution_count": 8,
   "id": "ae491c51",
   "metadata": {},
   "outputs": [
    {
     "data": {
      "image/png": "[encoded data removed]",
      "text/plain": [
       "<Figure size 432x288 with 1 Axes>"
      ]
     },
     "metadata": {
      "needs_background": "light"
     },
     "output_type": "display_data"
    }
   ],
   "source": [
    "sq_img_dim=800\n",
    "\n",
    "\"\"\" Initialize 800x800x3 matrix of black pixels.\n",
    "    800x800 => dimension of image\n",
    "    3: length of pixel array \"\"\"\n",
    "mat = np.full((sq_img_dim, sq_img_dim, 3), 0, dtype = np.uint8) # Pixel array = [0,0,0]; represents black pixel\n",
    "# Black so that it is relatively faster to initialize \n",
    "\n",
    "\n",
    "\"\"\" Changes column color of columns:\n",
    "    0-99, 200-299, 400-499, and 600-699\n",
    "    to white. \"\"\"\n",
    "white_start = 0\n",
    "while white_start < sq_img_dim:\n",
    "    mat[0:800, white_start : white_start+99] = [247, 191, 190] # Spanish pink\n",
    "    # <select all rows> , <selected columns, 100 width>\n",
    "    white_start += 200\n",
    "\n",
    "    \n",
    "\"\"\" Display 800x800 image \"\"\"\n",
    "# cv2.imshow(\"image\", mat)\n",
    "# cv2.waitKey(0)\n",
    "\n",
    "plt.imshow(mat, interpolation='nearest')\n",
    "plt.show()"
   ]
  },
  {
   "cell_type": "code",
   "execution_count": 9,
   "id": "78609638",
   "metadata": {},
   "outputs": [
    {
     "data": {
      "image/png": "[encoded data removed]",
      "text/plain": [
       "<Figure size 432x288 with 1 Axes>"
      ]
     },
     "metadata": {
      "needs_background": "light"
     },
     "output_type": "display_data"
    }
   ],
   "source": [
    "sq_img_dim=800\n",
    "\n",
    "\"\"\" Initialize 800x800x3 matrix of black pixels.\n",
    "    800x800 => dimension of image\n",
    "    3: length of pixel array \"\"\"\n",
    "mat = np.full((sq_img_dim, sq_img_dim, 3), 0, dtype = np.uint8) # Pixel array = [0,0,0]; represents black pixel\n",
    "# Black so that it is relatively faster to initialize \n",
    "\n",
    "\n",
    "\n",
    "\"\"\" Change color of alternating 100x100 blocks (of pixels) \n",
    "    Changes rows 0-99, columns 0-99 into white, rows 0-99 columns 200-299 into white, and so on.\"\"\"\n",
    "\n",
    "row_start=0 # Start from row 0-99 \n",
    "while row_start < sq_img_dim:\n",
    "    \n",
    "    if row_start%200 == 0:\n",
    "        col_start=0   \n",
    "    else:\n",
    "        col_start=100\n",
    "        \n",
    "    while col_start < sq_img_dim:\n",
    "        mat[row_start:row_start+99, col_start:col_start+99] = [255, rand_color_num(), rand_color_num()]\n",
    "        col_start+=200\n",
    "        \n",
    "    row_start+=100\n",
    "   \n",
    "\n",
    "\"\"\" Display 800x800 image \"\"\"\n",
    "# cv2.imshow(\"image\", mat)\n",
    "# cv2.waitKey(0)\n",
    "\n",
    "plt.imshow(mat, interpolation='nearest')\n",
    "plt.show()"
   ]
  }
 ],
 "metadata": {
  "kernelspec": {
   "display_name": "Python 3 (ipykernel)",
   "language": "python",
   "name": "python3"
  },
  "language_info": {
   "codemirror_mode": {
    "name": "ipython",
    "version": 3
   },
   "file_extension": ".py",
   "mimetype": "text/x-python",
   "name": "python",
   "nbconvert_exporter": "python",
   "pygments_lexer": "ipython3",
   "version": "3.9.12"
  }
 },
 "nbformat": 4,
 "nbformat_minor": 5
}
